{
  "nbformat": 4,
  "nbformat_minor": 0,
  "metadata": {
    "colab": {
      "name": "RE.BA.MUNI.ipynb",
      "provenance": [],
      "authorship_tag": "ABX9TyP6XnR4ksj0r6YqdxbnhX7J",
      "include_colab_link": true
    },
    "kernelspec": {
      "name": "python3",
      "display_name": "Python 3"
    },
    "accelerator": "GPU"
  },
  "cells": [
    {
      "cell_type": "markdown",
      "metadata": {
        "id": "view-in-github",
        "colab_type": "text"
      },
      "source": [
        "<a href=\"https://colab.research.google.com/github/khalidpark/Projects/blob/main/%EB%B0%94%EB%A5%B4%EC%85%80%EB%A1%9C%EB%82%98%20%EC%8A%B9%EB%A6%AC%EC%98%88%EC%B8%A1/RE_BA_MUNI.ipynb\" target=\"_parent\"><img src=\"https://colab.research.google.com/assets/colab-badge.svg\" alt=\"Open In Colab\"/></a>"
      ]
    },
    {
      "cell_type": "code",
      "metadata": {
        "id": "iX5RIRnB-WqZ"
      },
      "source": [
        "import tensorflow as tf\n",
        "\n",
        "import pandas as pd"
      ],
      "execution_count": null,
      "outputs": []
    },
    {
      "cell_type": "code",
      "metadata": {
        "id": "lR33gazYFVlm"
      },
      "source": [
        "CSV_COLUMN_NAMES = ['MatchType', 'MessiStarting', 'MessiPreTime', 'MessiPreGoal', 'MessiPrePreGoal', 'HomeAway', 'Team', 'Referee', 'GapTime', 'Weather', 'VsWin', 'VsDraw', 'VsLose', 'VsRanking', 'Results']\n",
        "RESULTS = ['Win', 'Draw', 'Lose']"
      ],
      "execution_count": null,
      "outputs": []
    },
    {
      "cell_type": "code",
      "metadata": {
        "id": "3ZMPxX6UpTwf"
      },
      "source": [
        "train_path = tf.keras.utils.get_file(\n",
        "    \"barca_training.csv\", \"https://docs.google.com/spreadsheets/d/1v1DjKlL413-qFA0zTCagxtobIfstFCxD24RoO48X0PQ/edit?usp=sharing\")\n",
        "test_path = tf.keras.utils.get_file(\n",
        "    \"barca_test.csv\", \"https://docs.google.com/spreadsheets/d/1CXiWt5qVu1WAFcbgY9k9EHmX-owXAqZoo8uHaVcgO6Q/edit?usp=sharing\")\n",
        "\n",
        "trainbarca = pd.read_csv(train_path, names=CSV_COLUMN_NAMES)\n",
        "testbarca = pd.read_csv(test_path, names=CSV_COLUMN_NAMES)\n"
      ],
      "execution_count": null,
      "outputs": []
    },
    {
      "cell_type": "code",
      "metadata": {
        "colab": {
          "base_uri": "https://localhost:8080/",
          "height": 224
        },
        "id": "P-1VmGeLrblA",
        "outputId": "4f3924d5-d051-4e23-f1dc-89a9c08750be"
      },
      "source": [
        "trainbarca.head()"
      ],
      "execution_count": null,
      "outputs": [
        {
          "output_type": "execute_result",
          "data": {
            "text/html": [
              "<div>\n",
              "<style scoped>\n",
              "    .dataframe tbody tr th:only-of-type {\n",
              "        vertical-align: middle;\n",
              "    }\n",
              "\n",
              "    .dataframe tbody tr th {\n",
              "        vertical-align: top;\n",
              "    }\n",
              "\n",
              "    .dataframe thead th {\n",
              "        text-align: right;\n",
              "    }\n",
              "</style>\n",
              "<table border=\"1\" class=\"dataframe\">\n",
              "  <thead>\n",
              "    <tr style=\"text-align: right;\">\n",
              "      <th></th>\n",
              "      <th>MatchType</th>\n",
              "      <th>MessiStarting</th>\n",
              "      <th>MessiPreTime</th>\n",
              "      <th>MessiPreGoal</th>\n",
              "      <th>MessiPrePreGoal</th>\n",
              "      <th>HomeAway</th>\n",
              "      <th>Team</th>\n",
              "      <th>Referee</th>\n",
              "      <th>GapTime</th>\n",
              "      <th>Weather</th>\n",
              "      <th>VsWin</th>\n",
              "      <th>VsDraw</th>\n",
              "      <th>VsLose</th>\n",
              "      <th>VsRanking</th>\n",
              "      <th>Results</th>\n",
              "    </tr>\n",
              "  </thead>\n",
              "  <tbody>\n",
              "    <tr>\n",
              "      <th>0</th>\n",
              "      <td>120.0</td>\n",
              "      <td>4.0</td>\n",
              "      <td>setosa</td>\n",
              "      <td>versicolor</td>\n",
              "      <td>virginica</td>\n",
              "      <td>NaN</td>\n",
              "      <td>NaN</td>\n",
              "      <td>NaN</td>\n",
              "      <td>NaN</td>\n",
              "      <td>NaN</td>\n",
              "      <td>NaN</td>\n",
              "      <td>NaN</td>\n",
              "      <td>NaN</td>\n",
              "      <td>NaN</td>\n",
              "      <td>NaN</td>\n",
              "    </tr>\n",
              "    <tr>\n",
              "      <th>1</th>\n",
              "      <td>6.4</td>\n",
              "      <td>2.8</td>\n",
              "      <td>5.6</td>\n",
              "      <td>2.2</td>\n",
              "      <td>2</td>\n",
              "      <td>NaN</td>\n",
              "      <td>NaN</td>\n",
              "      <td>NaN</td>\n",
              "      <td>NaN</td>\n",
              "      <td>NaN</td>\n",
              "      <td>NaN</td>\n",
              "      <td>NaN</td>\n",
              "      <td>NaN</td>\n",
              "      <td>NaN</td>\n",
              "      <td>NaN</td>\n",
              "    </tr>\n",
              "    <tr>\n",
              "      <th>2</th>\n",
              "      <td>5.0</td>\n",
              "      <td>2.3</td>\n",
              "      <td>3.3</td>\n",
              "      <td>1.0</td>\n",
              "      <td>1</td>\n",
              "      <td>NaN</td>\n",
              "      <td>NaN</td>\n",
              "      <td>NaN</td>\n",
              "      <td>NaN</td>\n",
              "      <td>NaN</td>\n",
              "      <td>NaN</td>\n",
              "      <td>NaN</td>\n",
              "      <td>NaN</td>\n",
              "      <td>NaN</td>\n",
              "      <td>NaN</td>\n",
              "    </tr>\n",
              "    <tr>\n",
              "      <th>3</th>\n",
              "      <td>4.9</td>\n",
              "      <td>2.5</td>\n",
              "      <td>4.5</td>\n",
              "      <td>1.7</td>\n",
              "      <td>2</td>\n",
              "      <td>NaN</td>\n",
              "      <td>NaN</td>\n",
              "      <td>NaN</td>\n",
              "      <td>NaN</td>\n",
              "      <td>NaN</td>\n",
              "      <td>NaN</td>\n",
              "      <td>NaN</td>\n",
              "      <td>NaN</td>\n",
              "      <td>NaN</td>\n",
              "      <td>NaN</td>\n",
              "    </tr>\n",
              "    <tr>\n",
              "      <th>4</th>\n",
              "      <td>4.9</td>\n",
              "      <td>3.1</td>\n",
              "      <td>1.5</td>\n",
              "      <td>0.1</td>\n",
              "      <td>0</td>\n",
              "      <td>NaN</td>\n",
              "      <td>NaN</td>\n",
              "      <td>NaN</td>\n",
              "      <td>NaN</td>\n",
              "      <td>NaN</td>\n",
              "      <td>NaN</td>\n",
              "      <td>NaN</td>\n",
              "      <td>NaN</td>\n",
              "      <td>NaN</td>\n",
              "      <td>NaN</td>\n",
              "    </tr>\n",
              "  </tbody>\n",
              "</table>\n",
              "</div>"
            ],
            "text/plain": [
              "   MatchType  MessiStarting MessiPreTime  ... VsLose VsRanking  Results\n",
              "0      120.0            4.0       setosa  ...    NaN       NaN      NaN\n",
              "1        6.4            2.8          5.6  ...    NaN       NaN      NaN\n",
              "2        5.0            2.3          3.3  ...    NaN       NaN      NaN\n",
              "3        4.9            2.5          4.5  ...    NaN       NaN      NaN\n",
              "4        4.9            3.1          1.5  ...    NaN       NaN      NaN\n",
              "\n",
              "[5 rows x 15 columns]"
            ]
          },
          "metadata": {
            "tags": []
          },
          "execution_count": 7
        }
      ]
    }
  ]
}